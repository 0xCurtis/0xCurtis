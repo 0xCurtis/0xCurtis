{
  "nbformat": 4,
  "nbformat_minor": 0,
  "metadata": {
    "colab": {
      "provenance": [],
      "authorship_tag": "ABX9TyPL4V4IsywCoIMR2qwmTBmz"
    },
    "kernelspec": {
      "name": "python3",
      "display_name": "Python 3"
    },
    "language_info": {
      "name": "python"
    }
  },
  "cells": [
    {
      "cell_type": "code",
      "execution_count": null,
      "metadata": {
        "id": "jVSz5WG6WTSC"
      },
      "outputs": [],
      "source": [
        "import pandas as pd\n",
        "import matplotlib.pyplot as plt"
      ]
    },
    {
      "cell_type": "code",
      "source": [
        "#EX 1\n",
        "data = {\n",
        "    'Mois': ['Janvier', 'Février', 'Mars', 'Avril'],\n",
        "    'Produit': ['Produit A', 'Produit B', 'Produit A', 'Produit C'],\n",
        "    'Quantité': [100, 150, 80, 120],\n",
        "    'Prix_Unitaire': [10, 20, 15, 8],\n",
        "    'Région': ['Nord', 'Sud', 'Est', 'Ouest']\n",
        "}\n",
        "sample = pd.DataFrame(data)\n",
        "\n",
        "# 2 Calculez le revenu total (Quantité * Prix_Unitaire) pour chaque produit.\n",
        "sample['Revenu_Total'] = sample['Quantité'] * sample['Prix_Unitaire']\n",
        "print(\"\\nRevenu total pour chaque produit :\")\n",
        "print(sample.groupby('Produit')['Revenu_Total'].sum())\n",
        "\n",
        "# 3. Identifiez le produit le plus vendu dans chaque région\n",
        "produit_plus_vendu_par_region = sample.groupby(['Région', 'Produit'])['Quantité'].sum().reset_index()\n",
        "produit_plus_vendu_par_region = produit_plus_vendu_par_region.sort_values(by='Quantité', ascending=False)\n",
        "produit_plus_vendu_par_region = produit_plus_vendu_par_region.drop_duplicates(subset='Région', keep='first')\n",
        "print(\"\\nProduit le plus vendu dans chaque région :\")\n",
        "print(produit_plus_vendu_par_region)\n",
        "\n",
        "# 4. Trouvez le mois avec le revenu total le plus élevé.\n",
        "mois_revenu_max = sample.groupby('Mois')['Revenu_Total'].sum().idxmax()\n",
        "print(\"\\nMois avec le revenu total le plus élevé :\")\n",
        "print(mois_revenu_max)"
      ],
      "metadata": {
        "colab": {
          "base_uri": "https://localhost:8080/"
        },
        "id": "fO9Hhbe0Wvk-",
        "outputId": "006241fe-880b-428c-8da3-5831d82c040b"
      },
      "execution_count": null,
      "outputs": [
        {
          "output_type": "stream",
          "name": "stdout",
          "text": [
            "\n",
            "Revenu total pour chaque produit :\n",
            "Produit\n",
            "Produit A    2200\n",
            "Produit B    3000\n",
            "Produit C     960\n",
            "Name: Revenu_Total, dtype: int64\n",
            "\n",
            "Produit le plus vendu dans chaque région :\n",
            "  Région    Produit  Quantité\n",
            "3    Sud  Produit B       150\n",
            "2  Ouest  Produit C       120\n",
            "1   Nord  Produit A       100\n",
            "0    Est  Produit A        80\n",
            "\n",
            "Mois avec le revenu total le plus élevé :\n",
            "Février\n"
          ]
        }
      ]
    },
    {
      "cell_type": "code",
      "source": [
        "#EX 2\n",
        "data = {\n",
        "    \"Étudiant_ID\": [1, 2, 3, 4, 5],\n",
        "    \"Mathématiques\": [80, 90, 70, None, 60],\n",
        "    \"Anglais\": [70, 65, 80, 75, None],\n",
        "    \"Français\": [85, 75, None, 60, 70],\n",
        "    \"Physique\": [60, 70, 0, 55, 80],\n",
        "    \"Chimie\": [None, 100, 0, 100, 50],\n",
        "    \"Biologie\": [90, None, 80, 85, 95]\n",
        "}\n",
        "\n",
        "sample = pd.DataFrame(data)\n",
        "\n",
        "# 2. Calculer la note moyenne de chaque étudiant\n",
        "sample[\"Moyenne\"] = sample.mean(axis=1)\n",
        "print(\"Calculer la note moyenne de chaque étudiant :\")\n",
        "print(mois_revenu_max)\n",
        "\n",
        "# 3. Identifier l'étudiant avec la meilleure moyenne\n",
        "meilleur_etudiant = sample.loc[sample[\"Moyenne\"].idxmax()]\n",
        "print(\"\\nIdentifier l'étudiant avec la meilleure moyenne :\")\n",
        "print(meilleur_etudiant)\n",
        "\n",
        "# 4. Identifier la matière avec la note moyenne la plus élevée\n",
        "moyenne_par_matiere = sample.mean()\n",
        "meilleure_matiere = moyenne_par_matiere.idxmax()\n",
        "meilleure_note_matiere = moyenne_par_matiere.max()\n",
        "print(\"\\nIdentifier la matière avec la note moyenne la plus élevée :\")\n",
        "print(meilleure_note_matiere)\n",
        "\n",
        "# 5. Identifier les étudiants qui ont échoué dans une ou plusieurs matières\n",
        "etudiants_echoues = sample[sample.iloc[:, 1:].lt(50).any(axis=1)]\n",
        "print(\"\\nIdentifier les étudiants qui ont échoué dans une ou plusieurs matières :\")\n",
        "print(etudiants_echoues)\n",
        "\n",
        "# 6. Créer un graphique montrant la distribution des moyennes des étudiants\n",
        "sample[\"Moyenne\"].plot(kind='hist', bins=10, edgecolor='black')\n",
        "plt.xlabel('Moyenne')\n",
        "plt.ylabel('Nombre d\\'étudiants')\n",
        "plt.title('Distribution des moyennes des étudiants')\n",
        "plt.show()"
      ],
      "metadata": {
        "colab": {
          "base_uri": "https://localhost:8080/",
          "height": 883
        },
        "id": "hErLT7p7YD31",
        "outputId": "f7a31b78-9d18-4bfc-da83-42824e6cb4f6"
      },
      "execution_count": null,
      "outputs": [
        {
          "output_type": "stream",
          "name": "stdout",
          "text": [
            "Calculer la note moyenne de chaque étudiant :\n",
            "Février\n",
            "\n",
            "Identifier l'étudiant avec la meilleure moyenne :\n",
            "Étudiant_ID        2.0\n",
            "Mathématiques     90.0\n",
            "Anglais           65.0\n",
            "Français          75.0\n",
            "Physique          70.0\n",
            "Chimie           100.0\n",
            "Biologie           NaN\n",
            "Moyenne           67.0\n",
            "Name: 1, dtype: float64\n",
            "\n",
            "Identifier la matière avec la note moyenne la plus élevée :\n",
            "87.5\n",
            "\n",
            "Identifier les étudiants qui ont échoué dans une ou plusieurs matières :\n",
            "   Étudiant_ID  Mathématiques  Anglais  Français  Physique  Chimie  Biologie  \\\n",
            "2            3           70.0     80.0       NaN         0     0.0      80.0   \n",
            "\n",
            "     Moyenne  \n",
            "2  38.833333  \n"
          ]
        },
        {
          "output_type": "display_data",
          "data": {
            "text/plain": [
              "<Figure size 640x480 with 1 Axes>"
            ],
            "image/png": "[encoded data removed]"
          },
          "metadata": {}
        }
      ]
    },
    {
      "cell_type": "code",
      "source": [
        "# Données du premier DataFrame\n",
        "data1 = {\n",
        "    \"id_produit\": [1, 2, 3, 4],\n",
        "    \"nom_produit\": [\"Produit A\", \"Produit B\", \"Produit C\", \"Produit D\"],\n",
        "    \"prix_unitaire\": [10, 15, 12, 8],\n",
        "    \"categorie\": [\"Catégorie 1\", \"Catégorie 2\", \"Catégorie 1\", \"Catégorie 2\"]\n",
        "}\n",
        "\n",
        "# Données du deuxième DataFrame\n",
        "data2 = {\n",
        "    \"id_vente\": [101, 102, 103, 104],\n",
        "    \"id_produit\": [1, 2, 3, 4],\n",
        "    \"quantite\": [5, 3, 6, 4],\n",
        "    \"date\": [\"2023-07-01\", \"2023-07-02\", \"2023-07-03\", \"2023-07-04\"]\n",
        "}\n",
        "\n",
        "# Création des DataFrames\n",
        "df_produits = pd.DataFrame(data1)\n",
        "df_ventes = pd.DataFrame(data2)\n",
        "\n",
        "# Fusionner les deux DataFrames en utilisant la clé id_produit et stocker le résultat dans df_fusion\n",
        "df_fusion = df_ventes.merge(df_produits, on='id_produit')\n",
        "\n",
        "# Calculer le chiffre d'affaires de chaque vente en ajoutant une colonne 'ca' au DataFrame df_fusion\n",
        "df_fusion['ca'] = df_fusion['quantite'] * df_fusion['prix_unitaire']\n",
        "print(\"Résultat de la fusion des DataFrames :\")\n",
        "print(df_fusion)\n",
        "\n",
        "# Calculer le chiffre d'affaires total par produit en utilisant la méthode groupby sur le DataFrame df_fusion\n",
        "ca_par_produit = df_fusion.groupby(['id_produit', 'nom_produit'])['ca'].sum().reset_index()\n",
        "print(\"\\nChiffre d'affaires total par produit :\")\n",
        "print(ca_par_produit)\n",
        "\n",
        "# Calculer le chiffre d'affaires total par catégorie en utilisant la méthode groupby sur le DataFrame df_fusion\n",
        "ca_par_categorie = df_fusion.groupby('categorie')['ca'].sum().reset_index()\n",
        "print(\"\\nChiffre d'affaires total par catégorie :\")\n",
        "print(ca_par_categorie)\n",
        "\n",
        "\n",
        "\n",
        "\n",
        "\n"
      ],
      "metadata": {
        "colab": {
          "base_uri": "https://localhost:8080/"
        },
        "id": "NAflBOqBZrl8",
        "outputId": "49796451-07e2-4249-9d42-33345ae1a1eb"
      },
      "execution_count": null,
      "outputs": [
        {
          "output_type": "stream",
          "name": "stdout",
          "text": [
            "Résultat de la fusion des DataFrames :\n",
            "   id_vente  id_produit  quantite        date nom_produit  prix_unitaire  \\\n",
            "0       101           1         5  2023-07-01   Produit A             10   \n",
            "1       102           2         3  2023-07-02   Produit B             15   \n",
            "2       103           3         6  2023-07-03   Produit C             12   \n",
            "3       104           4         4  2023-07-04   Produit D              8   \n",
            "\n",
            "     categorie  ca  \n",
            "0  Catégorie 1  50  \n",
            "1  Catégorie 2  45  \n",
            "2  Catégorie 1  72  \n",
            "3  Catégorie 2  32  \n",
            "\n",
            "Chiffre d'affaires total par produit :\n",
            "   id_produit nom_produit  ca\n",
            "0           1   Produit A  50\n",
            "1           2   Produit B  45\n",
            "2           3   Produit C  72\n",
            "3           4   Produit D  32\n",
            "\n",
            "Chiffre d'affaires total par catégorie :\n",
            "     categorie   ca\n",
            "0  Catégorie 1  122\n",
            "1  Catégorie 2   77\n"
          ]
        }
      ]
    }
  ]
}